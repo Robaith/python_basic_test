{
 "cells": [
  {
   "cell_type": "code",
   "execution_count": null,
   "metadata": {},
   "outputs": [],
   "source": [
    "#for clearing output\n",
    "#from IPython.display import clear_output\n",
    "\n",
    "#global variables\n",
    "def clear_output():\n",
    "    os.system( 'cls' )\n",
    "board = [' ']*10\n",
    "game_state = True\n",
    "announce = ''"
   ]
  },
  {
   "cell_type": "code",
   "execution_count": null,
   "metadata": {},
   "outputs": [],
   "source": [
    "def reset_board():\n",
    "    global board,game_state\n",
    "    board = [' ']*10\n",
    "    game_state = True"
   ]
  },
  {
   "cell_type": "code",
   "execution_count": null,
   "metadata": {},
   "outputs": [],
   "source": [
    "#this function prints out the board as my number pad\n",
    "def display_board():\n",
    "    \n",
    "    #clear current cell output\n",
    "    clear_output()\n",
    "    \n",
    "    #print the board\n",
    "    print (\"  \"+board[7]+\"   | \"+board[8]+\"   | \"+board[9]+\" \")\n",
    "    print (\"  --------------\")\n",
    "    print (\"  \"+board[4]+\"   | \"+board[5]+\"   | \"+board[6]+\" \")\n",
    "    print (\"  --------------\")\n",
    "    print (\"  \"+board[1]+\"   | \"+board[2]+\"   | \"+board[3]+\" \")"
   ]
  },
  {
   "cell_type": "code",
   "execution_count": null,
   "metadata": {},
   "outputs": [],
   "source": [
    "display_board()"
   ]
  },
  {
   "cell_type": "code",
   "execution_count": null,
   "metadata": {},
   "outputs": [],
   "source": [
    "#function for win check\n",
    "def win_check(board,player):\n",
    "    if (board[7] == board[8] == board[9] == player) or \\\n",
    "        (board[4] == board[5] == board[6] == player) or \\\n",
    "        (board[1] == board[2] == board[3] == player) or \\\n",
    "        (board[7] == board[4] == board[1] == player) or \\\n",
    "        (board[8] == board[5] == board[2] == player) or \\\n",
    "        (board[9] == board[6] == board[3] == player) or \\\n",
    "        (board[1] == board[5] == board[9] == player) or \\\n",
    "        (board[3] == board[5] == board[7] == player):\n",
    "        return True\n",
    "    else:\n",
    "        return False\n",
    "        \n",
    "        \n",
    "        \n",
    "    "
   ]
  },
  {
   "cell_type": "code",
   "execution_count": null,
   "metadata": {},
   "outputs": [],
   "source": [
    "#check the board if it is already full\n",
    "def full_board_check(board):\n",
    "    if ' ' in board[1:]:\n",
    "        return False\n",
    "    else:\n",
    "        return True"
   ]
  },
  {
   "cell_type": "code",
   "execution_count": null,
   "metadata": {},
   "outputs": [],
   "source": [
    "#ask player where to place 'x' or '0'\n",
    "def ask_player(mark):\n",
    "    global board\n",
    "    req = \"chose where to place your: \"+mark\n",
    "    \n",
    "    while True:\n",
    "        try:\n",
    "            choice = int(input(req))\n",
    "        except ValueError:\n",
    "            print(\"sorry, please input a number between 1-9.\")\n",
    "            continue\n",
    "        if board[choice] == \" \":\n",
    "            board[choice] = mark\n",
    "            break\n",
    "        else:\n",
    "            print (\"that space is not empty\")\n",
    "            continue\n",
    "                "
   ]
  },
  {
   "cell_type": "code",
   "execution_count": null,
   "metadata": {},
   "outputs": [],
   "source": [
    "#function that takes the players choice and returns game state\n",
    "def player_choice(mark):\n",
    "    global board,game_state,announce\n",
    "    announce = ''\n",
    "    \n",
    "    #get player input\n",
    "    mark = str(mark)\n",
    "    ask_player(mark)\n",
    "    \n",
    "    #check for player win\n",
    "    if win_check(board,mark):\n",
    "        clear_output()\n",
    "        display_board()\n",
    "        announce = mark + \"wins! Congratulations\"\n",
    "        game_state = False\n",
    "        \n",
    "    #show board\n",
    "    clear_output()\n",
    "    display_board()\n",
    "    \n",
    "    #check for a tie\n",
    "    if full_board_check(board):\n",
    "        announce = 'Tie!!!'\n",
    "        game_state = False\n",
    "    return game_state,announce"
   ]
  },
  {
   "cell_type": "code",
   "execution_count": null,
   "metadata": {},
   "outputs": [],
   "source": [
    " def play_game():\n",
    "        reset_board()\n",
    "        global announce\n",
    "        \n",
    "        #set marks\n",
    "        X = 'X'\n",
    "        O = 'O'\n",
    "        while True:\n",
    "            #show board\n",
    "            clear_output()\n",
    "            display_board()\n",
    "            \n",
    "            #player X turn\n",
    "            game_state, announce = player_choice(X)\n",
    "            print (announce)\n",
    "            if game_state == False:\n",
    "                break\n",
    "            \n",
    "            #player O turn\n",
    "            game_state, announce = player_choice(O)\n",
    "            print (announce)\n",
    "            if game_state == False:\n",
    "                break\n",
    "        #ask player for a rematch\n",
    "        rematch = input('would u like to play again? y/n')\n",
    "        if rematch == 'y':\n",
    "            play_game()\n",
    "        else:\n",
    "            print(\"Thanks for playing\")\n",
    "\n",
    "            "
   ]
  },
  {
   "cell_type": "code",
   "execution_count": null,
   "metadata": {},
   "outputs": [],
   "source": [
    "play_game()"
   ]
  },
  {
   "cell_type": "code",
   "execution_count": null,
   "metadata": {},
   "outputs": [],
   "source": [
    "play_game()"
   ]
  },
  {
   "cell_type": "code",
   "execution_count": null,
   "metadata": {},
   "outputs": [],
   "source": []
  }
 ],
 "metadata": {
  "kernelspec": {
   "display_name": "Python 3",
   "language": "python",
   "name": "python3"
  },
  "language_info": {
   "codemirror_mode": {
    "name": "ipython",
    "version": 3
   },
   "file_extension": ".py",
   "mimetype": "text/x-python",
   "name": "python",
   "nbconvert_exporter": "python",
   "pygments_lexer": "ipython3",
   "version": "3.7.3"
  }
 },
 "nbformat": 4,
 "nbformat_minor": 2
}
